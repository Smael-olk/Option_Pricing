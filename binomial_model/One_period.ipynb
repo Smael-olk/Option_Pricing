{
 "cells": [
  {
   "cell_type": "markdown",
   "metadata": {},
   "source": [
    "## Binomial Model\n",
    "Ismael Oulkhir\n",
    "\n",
    "\n",
    "Mail: oulkhir.ismael@gmail.com\n",
    "\n",
    "LinkedIn: https://www.linkedin.com/in/ismail-oulkhir/\n"
   ]
  },
  {
   "cell_type": "code",
   "execution_count": 3,
   "metadata": {},
   "outputs": [],
   "source": [
    "import numpy as np\n",
    "import matplotlib.pyplot as plt\n",
    "import yfinance as yf"
   ]
  },
  {
   "cell_type": "markdown",
   "metadata": {},
   "source": [
    "The **one-period binomial model** is a simple financial model used to price options and other derivatives. It assumes that the price of an underlying asset can move to one of two possible states (up or down) over a single time period. Here’s a brief description:\n",
    "\n",
    "---\n",
    "\n",
    "### Key Components:\n",
    "1. **Underlying Asset**:\n",
    "   - Starts at an initial price $ S_0 $.\n",
    "   - At the end of the period, it can move to:\n",
    "     - $ S_u = S_0 \\cdot u $ (up state) with probability $ P_u $,\n",
    "     - $ S_d = S_0 \\cdot d $ (down state) with probability $ P_d = 1 - P_u $.\n",
    "\n",
    "2. **Parameters**:\n",
    "   - $ u $: Up factor ($ u > 1 $).\n",
    "   - $ d $: Down factor ($ 0 < d < 1 $).\n",
    "   - $ P_u $: Probability of the up move.\n",
    "   - $ P_d $: Probability of the down move.\n",
    "\n",
    "3. **Risk-Neutral Probability**:\n",
    "   - In a risk-neutral world, the expected return of the asset is the risk-free rate $ r $.\n",
    "   - The risk-neutral probability $ q $ of the up move is calculated as:\n",
    "     $\n",
    "     q = \\frac{(1 + r) - d}{u - d}.\n",
    "     $\n",
    "\n",
    "4. **Option Pricing**:\n",
    "   - The value of an option (e.g., a call or put) is computed as the discounted expected payoff under the risk-neutral probability:\n",
    "     $\n",
    "     V_0 = \\frac{1}{1 + r} \\left( q \\cdot V_u + (1 - q) \\cdot V_d \\right),\n",
    "     $\n",
    "     where:\n",
    "     - $ V_u $: Payoff in the up state.\n",
    "     - $ V_d $: Payoff in the down state.\n",
    "\n",
    "---\n",
    "\n",
    "### Steps:\n",
    "1. Determine $ S_u $ and $ S_d $.\n",
    "2. Compute the option payoffs $ V_u $ and $ V_d $ at expiration.\n",
    "3. Calculate the risk-neutral probability $ q $.\n",
    "4. Discount the expected payoff to get the option price $ V_0 $.\n",
    "\n",
    "---\n",
    "\n",
    "### Applications:\n",
    "- Used to price European options.\n",
    "- Provides a foundation for more complex models like the multi-period binomial model and the Black-Scholes model."
   ]
  },
  {
   "cell_type": "code",
   "execution_count": 2,
   "metadata": {},
   "outputs": [
    {
     "name": "stdout",
     "output_type": "stream",
     "text": [
      "The price of the European call option is: 8.93\n"
     ]
    }
   ],
   "source": [
    "def binomial_option_price(S0, K, u, d, r):\n",
    "    \"\"\"\n",
    "    Calculate the price of a European call option using the one-period binomial model.\n",
    "\n",
    "    Parameters:\n",
    "    S0 (float): Initial stock price.\n",
    "    K (float): Strike price of the option.\n",
    "    u (float): Up factor.\n",
    "    d (float): Down factor.\n",
    "    r (float): Risk-free rate.\n",
    "\n",
    "    Returns:\n",
    "    float: Price of the European call option.\n",
    "    \"\"\"\n",
    "    # Risk-neutral probability of an up move\n",
    "    q = (1 + r - d) / (u - d)\n",
    "    \n",
    "    # Stock prices at expiration\n",
    "    Su = S0 * u  # Up state\n",
    "    Sd = S0 * d  # Down state\n",
    "    \n",
    "    # Option payoffs at expiration\n",
    "    Vu = max(Su - K, 0)  # Payoff in up state\n",
    "    Vd = max(Sd - K, 0)  # Payoff in down state\n",
    "    \n",
    "    # Expected payoff\n",
    "    expected_payoff = q * Vu + (1 - q) * Vd\n",
    "    \n",
    "    # Discount to present value\n",
    "    V0 = expected_payoff / (1 + r)\n",
    "    \n",
    "    return V0\n",
    "\n",
    "# Example usage\n",
    "S0 = 100  # Initial stock price\n",
    "K = 105   # Strike price\n",
    "u = 1.2   # Up factor\n",
    "d = 0.8   # Down factor\n",
    "r = 0.05  # Risk-free rate\n",
    "\n",
    "option_price = binomial_option_price(S0, K, u, d, r)\n",
    "print(f\"The price of the European call option is: {option_price:.2f}\")"
   ]
  },
  {
   "cell_type": "code",
   "execution_count": 9,
   "metadata": {},
   "outputs": [
    {
     "name": "stdout",
     "output_type": "stream",
     "text": [
      "The price of the European call option is: 16.66\n"
     ]
    }
   ],
   "source": [
    "# Example for TSLA Stock\n",
    "tsla = yf.Ticker(\"TSLA\")\n",
    "tsla_data = tsla.history(period=\"1mo\")\n",
    "tsla_prices = tsla_data['Close'].values\n",
    "S0 = tsla_prices[-1] # latest close stock price\n",
    "K = 430   # Strike price\n",
    "u = 1.05   # Up factor\n",
    "d = 0.94   # Down factor\n",
    "r = 0.0477  # Risk-free rate\n",
    "option_price = binomial_option_price(S0, K, u, d, r)\n",
    "print(f\"The price of the European call option is: {option_price:.2f}\")\n"
   ]
  },
  {
   "cell_type": "code",
   "execution_count": 16,
   "metadata": {},
   "outputs": [
    {
     "data": {
      "image/png": "[encoded data removed]",
      "text/plain": [
       "<Figure size 1200x600 with 1 Axes>"
      ]
     },
     "metadata": {},
     "output_type": "display_data"
    }
   ],
   "source": [
    "## Plotting price for different strikes from 430 to 450\n",
    "S0 = tsla_prices[-1]\n",
    "K = 430   # Strike price\n",
    "u = 1.05   # Up factor\n",
    "d = 0.94   # Down factor\n",
    "r = 0.0477  # Risk-free rate\n",
    "L=[k for k in range(0,450)]\n",
    "P=[binomial_option_price(S0, k, u, d, r) for k in L]\n",
    "plt.figure(figsize=(12, 6))\n",
    "plt.plot(L, P, label=\"EUR Call price for increasing strikes\", color=\"blue\")\n",
    "plt.xlabel(\"Strikes\")\n",
    "plt.ylabel(\"Price\")\n",
    "plt.legend()\n",
    "plt.grid()\n",
    "plt.show()"
   ]
  },
  {
   "cell_type": "markdown",
   "metadata": {},
   "source": [
    "There is a linear relationship between the price of a european call and the strike because the payoff decreases linearly with increasing K.\n",
    "\n",
    "$max(S-K,0)$"
   ]
  }
 ],
 "metadata": {
  "kernelspec": {
   "display_name": "Python 3",
   "language": "python",
   "name": "python3"
  },
  "language_info": {
   "codemirror_mode": {
    "name": "ipython",
    "version": 3
   },
   "file_extension": ".py",
   "mimetype": "text/x-python",
   "name": "python",
   "nbconvert_exporter": "python",
   "pygments_lexer": "ipython3",
   "version": "3.13.0"
  }
 },
 "nbformat": 4,
 "nbformat_minor": 2
}
